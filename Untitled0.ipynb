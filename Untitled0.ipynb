{
  "nbformat": 4,
  "nbformat_minor": 0,
  "metadata": {
    "colab": {
      "provenance": [],
      "authorship_tag": "ABX9TyMJJJ14BHTDTG4fdDSsIIRj",
      "include_colab_link": true
    },
    "kernelspec": {
      "name": "python3",
      "display_name": "Python 3"
    },
    "language_info": {
      "name": "python"
    }
  },
  "cells": [
    {
      "cell_type": "markdown",
      "metadata": {
        "id": "view-in-github",
        "colab_type": "text"
      },
      "source": [
        "<a href=\"https://colab.research.google.com/github/AbhishekAgrawal71/python_program/blob/main/Untitled0.ipynb\" target=\"_parent\"><img src=\"https://colab.research.google.com/assets/colab-badge.svg\" alt=\"Open In Colab\"/></a>"
      ]
    },
    {
      "cell_type": "code",
      "execution_count": null,
      "metadata": {
        "colab": {
          "base_uri": "https://localhost:8080/"
        },
        "id": "o_mGKmfrwhpm",
        "outputId": "765a0b65-1d63-4053-af4c-ab7e95768de2"
      },
      "outputs": [
        {
          "output_type": "stream",
          "name": "stdout",
          "text": [
            "Hello World\n"
          ]
        }
      ],
      "source": [
        "print(\"Hello World\")# this is our first python program"
      ]
    },
    {
      "cell_type": "code",
      "source": [
        "print(12346)"
      ],
      "metadata": {
        "id": "PmiY4T3S0ZR7",
        "outputId": "6d4346a7-4584-4f33-ef72-e3ebf7ae80b3",
        "colab": {
          "base_uri": "https://localhost:8080/"
        }
      },
      "execution_count": null,
      "outputs": [
        {
          "output_type": "stream",
          "name": "stdout",
          "text": [
            "12346\n"
          ]
        }
      ]
    },
    {
      "cell_type": "code",
      "source": [
        "import sys\n",
        "x=40\n",
        "y='Abhshek Agrawal'\n",
        "print(x)\n",
        "print(type(x)) #print the Data type of x\n",
        "print(id(x))   #print the address of x\n",
        "print(y)\n",
        "print(type(y)) #print the Data type of x\n",
        "print(id(y))   #print the address of y\n",
        "x=x+1\n",
        "y=y+' I am a 1st year student '\n",
        "print(id(x)) # here the address of x is changed\n",
        "print(id(y)) # here the address of y is changed\n",
        "size_of_x=sys.getsizeof(x)\n",
        "size_of_y=sys.getsizeof(y)\n",
        "print(\"size of x is \",size_of_x)\n",
        "print(\"size of y is \",size_of_y)\n",
        "z=[1,2,3,4,5,6] # Here we have initialized a list.\n",
        "print(\"The list is : \",z)\n",
        "z.append(\"hello\") # Here we are updating a list.\n",
        "print(\"The updated list is : \")\n",
        "print(z)\n",
        "\n",
        "\n"
      ],
      "metadata": {
        "colab": {
          "base_uri": "https://localhost:8080/"
        },
        "id": "nYbROdzQntj5",
        "outputId": "2280a5d9-1c7e-472c-bd4b-35fba16720c0"
      },
      "execution_count": null,
      "outputs": [
        {
          "output_type": "stream",
          "name": "stdout",
          "text": [
            "40\n",
            "<class 'int'>\n",
            "138370524759504\n",
            "Abhshek Agrawal\n",
            "<class 'str'>\n",
            "138370228974704\n",
            "138370524759536\n",
            "138370238933840\n",
            "size of x is  28\n",
            "size of y is  89\n",
            "The list is :  [1, 2, 3, 4, 5, 6]\n",
            "The updated list is : \n",
            "[1, 2, 3, 4, 5, 6, 'hello']\n"
          ]
        }
      ]
    },
    {
      "cell_type": "code",
      "source": [
        "a=10+10+20\n",
        "print(a)"
      ],
      "metadata": {
        "colab": {
          "base_uri": "https://localhost:8080/"
        },
        "id": "MPkd_6_BuTyi",
        "outputId": "b48a7ab6-a6ae-42d4-b95f-52a19c7a0d26"
      },
      "execution_count": null,
      "outputs": [
        {
          "output_type": "stream",
          "name": "stdout",
          "text": [
            "40\n"
          ]
        }
      ]
    },
    {
      "cell_type": "code",
      "source": [
        "a=10+\\\n",
        "10+\\\n",
        "20\n",
        "print(a)\n"
      ],
      "metadata": {
        "colab": {
          "base_uri": "https://localhost:8080/"
        },
        "id": "L3gjXirRugo4",
        "outputId": "49fa1a39-655a-43ea-a8fb-ddc4b1213825"
      },
      "execution_count": null,
      "outputs": [
        {
          "output_type": "stream",
          "name": "stdout",
          "text": [
            "40\n"
          ]
        }
      ]
    },
    {
      "cell_type": "code",
      "source": [
        "num1=float(input(\"enter the number\"))\n",
        "print(num1)\n",
        "num2=int(input(\"Enter the next number\"))\n",
        "res=num1+num2\n",
        "print(res)"
      ],
      "metadata": {
        "colab": {
          "base_uri": "https://localhost:8080/"
        },
        "id": "QpO2V7tGvfi5",
        "outputId": "404b0af9-9f5a-4b32-abeb-d770bb94a8b1"
      },
      "execution_count": null,
      "outputs": [
        {
          "output_type": "stream",
          "name": "stdout",
          "text": [
            "enter the number20\n",
            "20.0\n",
            "Enter the next number30\n",
            "50.0\n"
          ]
        }
      ]
    },
    {
      "cell_type": "code",
      "source": [
        "# '''\n",
        "# addition(+)\n",
        "a=10\n",
        "b=5\n",
        "c=a+b\n",
        "print(c)\n",
        "# substracttion(-)\n",
        "d=a-b\n",
        "print(d)\n",
        "# multiplication(*)\n",
        "e=a*b\n",
        "print(e)\n",
        "# division(/)\n",
        "f=a/b\n",
        "print(f)\n",
        "# floor devision(//)\n",
        "g=a//b\n",
        "print(g)\n",
        "# exponent(**)\n",
        "h=a**b\n",
        "print(h)\n",
        "# modulus(%)\n",
        "i=a%b\n",
        "print(i)"
      ],
      "metadata": {
        "colab": {
          "base_uri": "https://localhost:8080/"
        },
        "id": "BGdWgf4dyufy",
        "outputId": "0cc8497c-b0b6-4a92-8897-57f2f1582883"
      },
      "execution_count": null,
      "outputs": [
        {
          "output_type": "stream",
          "name": "stdout",
          "text": [
            "15\n",
            "5\n",
            "50\n",
            "2.0\n",
            "2\n",
            "100000\n",
            "0\n"
          ]
        }
      ]
    },
    {
      "cell_type": "markdown",
      "source": [
        "**comparison operator**"
      ],
      "metadata": {
        "id": "VjCtkZc41RoR"
      }
    },
    {
      "cell_type": "code",
      "source": [
        "a=10\n",
        "b=2\n",
        "print(type(a==b))\n",
        "print(a!=b)\n",
        "print(a>b)\n",
        "print(a<b)\n",
        "print(a<=b)\n",
        "print(a>=b)"
      ],
      "metadata": {
        "colab": {
          "base_uri": "https://localhost:8080/"
        },
        "id": "r00R-Bfi1f8G",
        "outputId": "d72c0e73-9367-4bac-d9d2-fb40400147ff"
      },
      "execution_count": null,
      "outputs": [
        {
          "output_type": "stream",
          "name": "stdout",
          "text": [
            "<class 'bool'>\n",
            "True\n",
            "True\n",
            "False\n",
            "False\n",
            "True\n"
          ]
        }
      ]
    },
    {
      "cell_type": "markdown",
      "source": [
        "**unary operator**"
      ],
      "metadata": {
        "id": "DITDd7Ks2MWn"
      }
    },
    {
      "cell_type": "code",
      "source": [
        "a=10\n",
        "b=-(a)\n",
        "print(a)\n",
        "print(b)\n",
        "c=-a\n",
        "print(c)\n"
      ],
      "metadata": {
        "colab": {
          "base_uri": "https://localhost:8080/"
        },
        "id": "mXY1UQJm2Qqk",
        "outputId": "cb3cb6c6-0040-4bff-80a7-e71c623d8e7e"
      },
      "execution_count": null,
      "outputs": [
        {
          "output_type": "stream",
          "name": "stdout",
          "text": [
            "10\n",
            "-10\n",
            "-10\n"
          ]
        }
      ]
    },
    {
      "cell_type": "markdown",
      "source": [
        "**Bitwise operators**"
      ],
      "metadata": {
        "id": "JfN5cfUE3B_a"
      }
    },
    {
      "cell_type": "code",
      "source": [
        "# AND (&) -> BOTH SHOULD BE HIGH\n",
        "# OR  (|)  -> ANY OF ONE SHOULD BE HIGH\n",
        "# NOT (!)  -> OPPOSITE THE INPUT\n",
        "# XOR (^)   -> BOTH SHOULD BE OPPOSITE FOR HIGH OUTPUT\n",
        "a=7\n",
        "b=5\n",
        "print(a|b)\n",
        "print(a&b)\n",
        "print(a^b)\n",
        "print(not(a))\n",
        "\n",
        "\n"
      ],
      "metadata": {
        "colab": {
          "base_uri": "https://localhost:8080/"
        },
        "id": "xVhuODsO3Jx6",
        "outputId": "58f01680-1f08-4687-d60d-19dca6c9b6b5"
      },
      "execution_count": null,
      "outputs": [
        {
          "output_type": "stream",
          "name": "stdout",
          "text": [
            "7\n",
            "5\n",
            "2\n",
            "False\n"
          ]
        }
      ]
    },
    {
      "cell_type": "markdown",
      "source": [
        "**shift opereator**"
      ],
      "metadata": {
        "id": "Cs4T76E57SIO"
      }
    },
    {
      "cell_type": "code",
      "source": [
        "a=10\n",
        "print(a>>1) # bit of a has a right shift of 1\n",
        "print(a>>2) # bit of a has a right shift of 2\n",
        "print(a>>4) # bit of a has a right shift of 4\n",
        "print(a<<2) # bit of a has a left shift of 2\n"
      ],
      "metadata": {
        "colab": {
          "base_uri": "https://localhost:8080/"
        },
        "id": "ZYLmLEfK7aAr",
        "outputId": "e86eec59-3b6e-403b-f0f5-cfa55d30d0ae"
      },
      "execution_count": null,
      "outputs": [
        {
          "output_type": "stream",
          "name": "stdout",
          "text": [
            "5\n",
            "2\n",
            "0\n",
            "16069380442589902755419620923411626025222029937827928353013760\n"
          ]
        }
      ]
    },
    {
      "cell_type": "markdown",
      "source": [
        "**Logical Operator**"
      ],
      "metadata": {
        "id": "2zTGyTJ4_VW6"
      }
    },
    {
      "cell_type": "code",
      "source": [
        "a=10\n",
        "b=5\n",
        "if((a==b)and(a>b)):\n",
        "  print(\"success\")\n",
        "else:\n",
        "  print(\"failure\")\n"
      ],
      "metadata": {
        "colab": {
          "base_uri": "https://localhost:8080/"
        },
        "id": "QVTAlw8E_cbU",
        "outputId": "6f99c447-0319-4bfb-b1cf-5d175089c4da"
      },
      "execution_count": null,
      "outputs": [
        {
          "output_type": "stream",
          "name": "stdout",
          "text": [
            "failure\n"
          ]
        }
      ]
    },
    {
      "cell_type": "markdown",
      "source": [
        "**Strings\n",
        "**"
      ],
      "metadata": {
        "id": "oBzYd96wRkmd"
      }
    },
    {
      "cell_type": "code",
      "source": [
        "mystr='hello world'\n",
        "print(mystr)\n",
        "a=20\n",
        "a\n",
        "mystr1='''a\n",
        "          t\n",
        "          p'''\n",
        "print(mystr1)\n",
        "mystr2=\"\"\"w\n",
        "          o\n",
        "          y\"\"\"\n",
        "print(mystr2)\n",
        "'''\n",
        "mystr3=\"\"\"hello\n",
        "world\"\"\"\n",
        "print(mystr3)\n",
        "print(len(mystr3))\n",
        "print(mystr3[-1])\n",
        "mystr4=\"\"\" hello bro how are you\"\"\"\n",
        "print(len(mystr4))\n",
        "print(mystr4[0:11])\n",
        "print(mystr4[-1:])\n",
        "print(type(mystr4[8:10]))\n",
        "for i in mystr4 :\n",
        "  print(i)\n",
        "  ## write a program to concatenater two strings\n",
        "  ## taker a multi line string and extract the relavant words only\n",
        "  a=\"hello guys\"\n",
        "  b=\" hello sir\"\n",
        "print(a+b)\n",
        "\n",
        "'''\n",
        "\n"
      ],
      "metadata": {
        "colab": {
          "base_uri": "https://localhost:8080/",
          "height": 209
        },
        "collapsed": true,
        "id": "KMpK4HWURol-",
        "outputId": "0191d497-a2ee-430f-c84f-83a4d56b1848"
      },
      "execution_count": null,
      "outputs": [
        {
          "output_type": "stream",
          "name": "stdout",
          "text": [
            "hello world\n",
            "a\n",
            "          t\n",
            "          p\n",
            "w\n",
            "          o\n",
            "          y\n"
          ]
        },
        {
          "output_type": "execute_result",
          "data": {
            "text/plain": [
              "'\\nmystr3=\"\"\"hello\\nworld\"\"\"\\nprint(mystr3)\\nprint(len(mystr3))\\nprint(mystr3[-1])\\nmystr4=\"\"\" hello bro how are you\"\"\"\\nprint(len(mystr4))\\nprint(mystr4[0:11])\\nprint(mystr4[-1:])\\nprint(type(mystr4[8:10]))\\nfor i in mystr4 :\\n  print(i)\\n  ## write a program to concatenater two strings\\n  ## taker a multi line string and extract the relavant words only \\n  a=\"hello guys\"\\n  b=\" hello sir\"\\nprint(a+b)\\n\\n'"
            ],
            "application/vnd.google.colaboratory.intrinsic+json": {
              "type": "string"
            }
          },
          "metadata": {},
          "execution_count": 49
        }
      ]
    },
    {
      "cell_type": "code",
      "source": [
        "a=\"welcome to python\"\n",
        "a[0:6]=\"hello\" ## string does not support item assingment you cant to modify the string"
      ],
      "metadata": {
        "colab": {
          "base_uri": "https://localhost:8080/",
          "height": 158
        },
        "collapsed": true,
        "id": "WPbrjGu6XwHh",
        "outputId": "afeacc29-4930-4e07-9375-f58854adff3e"
      },
      "execution_count": null,
      "outputs": [
        {
          "output_type": "error",
          "ename": "TypeError",
          "evalue": "'str' object does not support item assignment",
          "traceback": [
            "\u001b[0;31m---------------------------------------------------------------------------\u001b[0m",
            "\u001b[0;31mTypeError\u001b[0m                                 Traceback (most recent call last)",
            "\u001b[0;32m<ipython-input-36-9da7dae122c1>\u001b[0m in \u001b[0;36m<cell line: 2>\u001b[0;34m()\u001b[0m\n\u001b[1;32m      1\u001b[0m \u001b[0ma\u001b[0m\u001b[0;34m=\u001b[0m\u001b[0;34m\"welcome to python\"\u001b[0m\u001b[0;34m\u001b[0m\u001b[0;34m\u001b[0m\u001b[0m\n\u001b[0;32m----> 2\u001b[0;31m \u001b[0ma\u001b[0m\u001b[0;34m[\u001b[0m\u001b[0;36m0\u001b[0m\u001b[0;34m:\u001b[0m\u001b[0;36m6\u001b[0m\u001b[0;34m]\u001b[0m\u001b[0;34m=\u001b[0m\u001b[0;34m\"hello\"\u001b[0m\u001b[0;34m\u001b[0m\u001b[0;34m\u001b[0m\u001b[0m\n\u001b[0m",
            "\u001b[0;31mTypeError\u001b[0m: 'str' object does not support item assignment"
          ]
        }
      ]
    },
    {
      "cell_type": "markdown",
      "source": [
        "**operations **"
      ],
      "metadata": {
        "id": "DuQE_f25Yc2w"
      }
    },
    {
      "cell_type": "code",
      "source": [
        "a=input(\"enter the first string\")\n",
        "b=input(\"enter the second string \")\n",
        "c=a+b\n",
        "print(c)\n",
        "d=int(input(\"enter the third string\"))\n",
        "e=float(input(\"enter the fourth string \"))\n",
        "f=d+e\n",
        "print(f)\n",
        "\n",
        "\n",
        "\n"
      ],
      "metadata": {
        "colab": {
          "base_uri": "https://localhost:8080/"
        },
        "collapsed": true,
        "id": "Cp4b171wYgPg",
        "outputId": "c9263783-4ade-499d-a1f7-9b75d2761644"
      },
      "execution_count": null,
      "outputs": [
        {
          "output_type": "stream",
          "name": "stdout",
          "text": [
            "enter the first string100\n",
            "enter the second string 200\n",
            "100200\n",
            "enter the third string100\n",
            "enter the fourth string 200\n",
            "300.0\n"
          ]
        }
      ]
    },
    {
      "cell_type": "markdown",
      "source": [
        "**list**"
      ],
      "metadata": {
        "id": "IgXU9DjCaJ9v"
      }
    },
    {
      "cell_type": "code",
      "source": [
        "a=[1,2,0.0,'a',\"too\"]\n",
        "print(type(a))\n",
        "print(a)\n",
        "a"
      ],
      "metadata": {
        "colab": {
          "base_uri": "https://localhost:8080/"
        },
        "id": "iguwiv6NaNbn",
        "outputId": "51528ebd-f22d-488d-d9e3-c34f6e9198d6"
      },
      "execution_count": null,
      "outputs": [
        {
          "output_type": "stream",
          "name": "stdout",
          "text": [
            "<class 'list'>\n",
            "[1, 2, 0.0, 'a', 'too']\n"
          ]
        },
        {
          "output_type": "execute_result",
          "data": {
            "text/plain": [
              "[1, 2, 0.0, 'a', 'too']"
            ]
          },
          "metadata": {},
          "execution_count": 44
        }
      ]
    },
    {
      "cell_type": "markdown",
      "source": [
        "**Control statements **"
      ],
      "metadata": {
        "id": "MoYmUgaRB7W1"
      }
    },
    {
      "cell_type": "code",
      "source": [
        "# if else check its control from top tio bottom\n",
        "temp=21\n",
        "if temp>30:\n",
        "  print(\"It is a hot day\")\n",
        "  print(\"Drink plenty of water\")\n",
        "elif temp>10:\n",
        "  print(\"It is bit cold\")\n",
        "elif temp>20:\n",
        "  print(\"It is a good day\")\n",
        "\n",
        "else:\n",
        "  print(\"Enjoy\")"
      ],
      "metadata": {
        "colab": {
          "base_uri": "https://localhost:8080/"
        },
        "id": "oljdaIzoCAay",
        "outputId": "d95a78d0-f3ea-445a-95f6-2062e9f560c5"
      },
      "execution_count": null,
      "outputs": [
        {
          "output_type": "stream",
          "name": "stdout",
          "text": [
            "It is bit cold\n"
          ]
        }
      ]
    },
    {
      "cell_type": "code",
      "source": [
        "## write the for weight conversion\n",
        "## convert kg into lbs\n",
        "weight=25\n",
        "unit=input(\"Tell the unit \")\n"
      ],
      "metadata": {
        "id": "9GSEMGemFsNe"
      },
      "execution_count": null,
      "outputs": []
    },
    {
      "cell_type": "markdown",
      "source": [
        "**loops**"
      ],
      "metadata": {
        "id": "w9VI_w5jUQGK"
      }
    },
    {
      "cell_type": "code",
      "source": [
        "sec_num=14\n",
        "guess_count=3\n",
        "counter=0\n",
        "while counter<guess_count:\n",
        "  num=int(input(\"Enter the number\"))\n",
        "  if num==sec_num:\n",
        "    print(\"success\")\n",
        "    counter=counter+1\n",
        "    break\n",
        "  else:\n",
        "    counter=counter+1\n",
        "    print(\"try again\")\n",
        "print(\"no of attempts are :\",counter)\n",
        "\n"
      ],
      "metadata": {
        "colab": {
          "base_uri": "https://localhost:8080/"
        },
        "id": "-cMmUwclUTXr",
        "outputId": "479b950f-b04d-4c4c-83cb-8967ee5542e4"
      },
      "execution_count": null,
      "outputs": [
        {
          "output_type": "stream",
          "name": "stdout",
          "text": [
            "Enter the number15\n",
            "try again\n",
            "Enter the number5\n",
            "try again\n",
            "Enter the number14\n",
            "success\n"
          ]
        }
      ]
    },
    {
      "cell_type": "code",
      "source": [
        "li=[1,2,3,4,5,6,7,8,9]\n",
        "# for  i in [1,2,3,4,5,6,7,8,9]:\n",
        "#   print(i)\n",
        "s1=\"hello world\"\n",
        "# for i in s1:\n",
        "#   if (i==s1[2:3]) or (i==s1[-1]) :\n",
        "#     continue\n",
        "#   print(i)\n",
        "# else:\n",
        "#   print(\"success\")\n",
        "## range function\n",
        "for i in range(10):\n",
        "  print(i)\n",
        "# for i in range(10,20):\n",
        "#   print(i)\n",
        "# for i in (10,20,2): ## it become a set\n",
        "#   print(i)\n",
        "# for i in s1:\n",
        "#   for j in li:\n",
        "#     print(i,j)\n",
        "\n",
        "\n",
        "\n"
      ],
      "metadata": {
        "colab": {
          "base_uri": "https://localhost:8080/"
        },
        "id": "Uh65wIdDzfzp",
        "outputId": "2d51c9ee-fa3c-4619-f85a-50b853cf0874",
        "collapsed": true
      },
      "execution_count": 1,
      "outputs": [
        {
          "output_type": "stream",
          "name": "stdout",
          "text": [
            "0\n",
            "1\n",
            "2\n",
            "3\n",
            "4\n",
            "5\n",
            "6\n",
            "7\n",
            "8\n",
            "9\n"
          ]
        }
      ]
    },
    {
      "cell_type": "markdown",
      "source": [
        "**lists**"
      ],
      "metadata": {
        "id": "8u0_zVvRYgHX"
      }
    },
    {
      "cell_type": "code",
      "source": [
        "c"
      ],
      "metadata": {
        "id": "GDZBmeoVYjvq"
      },
      "execution_count": null,
      "outputs": []
    }
  ]
}