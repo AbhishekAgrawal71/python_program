{
  "nbformat": 4,
  "nbformat_minor": 0,
  "metadata": {
    "colab": {
      "provenance": [],
      "authorship_tag": "ABX9TyPVbIbBVj2KMi+0AMc2NE20",
      "include_colab_link": true
    },
    "kernelspec": {
      "name": "python3",
      "display_name": "Python 3"
    },
    "language_info": {
      "name": "python"
    }
  },
  "cells": [
    {
      "cell_type": "markdown",
      "metadata": {
        "id": "view-in-github",
        "colab_type": "text"
      },
      "source": [
        "<a href=\"https://colab.research.google.com/github/AbhishekAgrawal71/python_program/blob/main/Untitled0.ipynb\" target=\"_parent\"><img src=\"https://colab.research.google.com/assets/colab-badge.svg\" alt=\"Open In Colab\"/></a>"
      ]
    },
    {
      "cell_type": "code",
      "execution_count": null,
      "metadata": {
        "colab": {
          "base_uri": "https://localhost:8080/"
        },
        "id": "o_mGKmfrwhpm",
        "outputId": "765a0b65-1d63-4053-af4c-ab7e95768de2"
      },
      "outputs": [
        {
          "output_type": "stream",
          "name": "stdout",
          "text": [
            "Hello World\n"
          ]
        }
      ],
      "source": [
        "print(\"Hello World\")# this is our first python program"
      ]
    },
    {
      "cell_type": "code",
      "source": [
        "print(12346)"
      ],
      "metadata": {
        "id": "PmiY4T3S0ZR7",
        "outputId": "6d4346a7-4584-4f33-ef72-e3ebf7ae80b3",
        "colab": {
          "base_uri": "https://localhost:8080/"
        }
      },
      "execution_count": null,
      "outputs": [
        {
          "output_type": "stream",
          "name": "stdout",
          "text": [
            "12346\n"
          ]
        }
      ]
    },
    {
      "cell_type": "code",
      "source": [
        "import sys\n",
        "x=40\n",
        "y='Abhshek Agrawal'\n",
        "print(x)\n",
        "print(type(x)) #print the Data type of x\n",
        "print(id(x))   #print the address of x\n",
        "print(y)\n",
        "print(type(y)) #print the Data type of x\n",
        "print(id(y))   #print the address of y\n",
        "x=x+1\n",
        "y=y+' I am a 1st year student '\n",
        "print(id(x)) # here the address of x is changed\n",
        "print(id(y)) # here the address of y is changed\n",
        "size_of_x=sys.getsizeof(x)\n",
        "size_of_y=sys.getsizeof(y)\n",
        "print(\"size of x is \",size_of_x)\n",
        "print(\"size of y is \",size_of_y)\n",
        "z=[1,2,3,4,5,6] # Here we have initialized a list.\n",
        "print(\"The list is : \",z)\n",
        "z.append(\"hello\") # Here we are updating a list.\n",
        "print(\"The updated list is : \")\n",
        "print(z)\n",
        "\n",
        "\n"
      ],
      "metadata": {
        "colab": {
          "base_uri": "https://localhost:8080/"
        },
        "id": "nYbROdzQntj5",
        "outputId": "2280a5d9-1c7e-472c-bd4b-35fba16720c0"
      },
      "execution_count": null,
      "outputs": [
        {
          "output_type": "stream",
          "name": "stdout",
          "text": [
            "40\n",
            "<class 'int'>\n",
            "138370524759504\n",
            "Abhshek Agrawal\n",
            "<class 'str'>\n",
            "138370228974704\n",
            "138370524759536\n",
            "138370238933840\n",
            "size of x is  28\n",
            "size of y is  89\n",
            "The list is :  [1, 2, 3, 4, 5, 6]\n",
            "The updated list is : \n",
            "[1, 2, 3, 4, 5, 6, 'hello']\n"
          ]
        }
      ]
    },
    {
      "cell_type": "code",
      "source": [
        "a=10+10+20\n",
        "print(a)"
      ],
      "metadata": {
        "colab": {
          "base_uri": "https://localhost:8080/"
        },
        "id": "MPkd_6_BuTyi",
        "outputId": "b48a7ab6-a6ae-42d4-b95f-52a19c7a0d26"
      },
      "execution_count": 1,
      "outputs": [
        {
          "output_type": "stream",
          "name": "stdout",
          "text": [
            "40\n"
          ]
        }
      ]
    },
    {
      "cell_type": "code",
      "source": [
        "a=10+\\\n",
        "10+\\\n",
        "20\n",
        "print(a)\n"
      ],
      "metadata": {
        "colab": {
          "base_uri": "https://localhost:8080/"
        },
        "id": "L3gjXirRugo4",
        "outputId": "49fa1a39-655a-43ea-a8fb-ddc4b1213825"
      },
      "execution_count": 2,
      "outputs": [
        {
          "output_type": "stream",
          "name": "stdout",
          "text": [
            "40\n"
          ]
        }
      ]
    },
    {
      "cell_type": "code",
      "source": [
        "num1=float(input(\"enter the number\"))\n",
        "print(num1)\n",
        "num2=int(input(\"Enter the next number\"))\n",
        "res=num1+num2\n",
        "print(res)"
      ],
      "metadata": {
        "colab": {
          "base_uri": "https://localhost:8080/"
        },
        "id": "QpO2V7tGvfi5",
        "outputId": "404b0af9-9f5a-4b32-abeb-d770bb94a8b1"
      },
      "execution_count": 11,
      "outputs": [
        {
          "output_type": "stream",
          "name": "stdout",
          "text": [
            "enter the number20\n",
            "20.0\n",
            "Enter the next number30\n",
            "50.0\n"
          ]
        }
      ]
    },
    {
      "cell_type": "code",
      "source": [
        "# '''\n",
        "# addition(+)\n",
        "a=10\n",
        "b=5\n",
        "c=a+b\n",
        "print(c)\n",
        "# substracttion(-)\n",
        "d=a-b\n",
        "print(d)\n",
        "# multiplication(*)\n",
        "e=a*b\n",
        "print(e)\n",
        "# division(/)\n",
        "f=a/b\n",
        "print(f)\n",
        "# floor devision(//)\n",
        "g=a//b\n",
        "print(g)\n",
        "# exponent(**)\n",
        "h=a**b\n",
        "print(h)\n",
        "# modulus(%)\n",
        "i=a%b\n",
        "print(i)"
      ],
      "metadata": {
        "colab": {
          "base_uri": "https://localhost:8080/"
        },
        "id": "BGdWgf4dyufy",
        "outputId": "0cc8497c-b0b6-4a92-8897-57f2f1582883"
      },
      "execution_count": 20,
      "outputs": [
        {
          "output_type": "stream",
          "name": "stdout",
          "text": [
            "15\n",
            "5\n",
            "50\n",
            "2.0\n",
            "2\n",
            "100000\n",
            "0\n"
          ]
        }
      ]
    },
    {
      "cell_type": "markdown",
      "source": [
        "**comparison operator**"
      ],
      "metadata": {
        "id": "VjCtkZc41RoR"
      }
    },
    {
      "cell_type": "code",
      "source": [
        "a=10\n",
        "b=2\n",
        "print(type(a==b))\n",
        "print(a!=b)\n",
        "print(a>b)\n",
        "print(a<b)\n",
        "print(a<=b)\n",
        "print(a>=b)"
      ],
      "metadata": {
        "colab": {
          "base_uri": "https://localhost:8080/"
        },
        "id": "r00R-Bfi1f8G",
        "outputId": "d72c0e73-9367-4bac-d9d2-fb40400147ff"
      },
      "execution_count": 25,
      "outputs": [
        {
          "output_type": "stream",
          "name": "stdout",
          "text": [
            "<class 'bool'>\n",
            "True\n",
            "True\n",
            "False\n",
            "False\n",
            "True\n"
          ]
        }
      ]
    },
    {
      "cell_type": "markdown",
      "source": [
        "**unary operator**"
      ],
      "metadata": {
        "id": "DITDd7Ks2MWn"
      }
    },
    {
      "cell_type": "code",
      "source": [
        "a=10\n",
        "b=-(a)\n",
        "print(a)\n",
        "print(b)\n",
        "c=-a\n",
        "print(c)\n"
      ],
      "metadata": {
        "colab": {
          "base_uri": "https://localhost:8080/"
        },
        "id": "mXY1UQJm2Qqk",
        "outputId": "cb3cb6c6-0040-4bff-80a7-e71c623d8e7e"
      },
      "execution_count": 27,
      "outputs": [
        {
          "output_type": "stream",
          "name": "stdout",
          "text": [
            "10\n",
            "-10\n",
            "-10\n"
          ]
        }
      ]
    },
    {
      "cell_type": "markdown",
      "source": [
        "**Bitwise operators**"
      ],
      "metadata": {
        "id": "JfN5cfUE3B_a"
      }
    },
    {
      "cell_type": "code",
      "source": [
        "# AND (&) -> BOTH SHOULD BE HIGH\n",
        "# OR  (|)  -> ANY OF ONE SHOULD BE HIGH\n",
        "# NOT (!)  -> OPPOSITE THE INPUT\n",
        "# XOR (^)   -> BOTH SHOULD BE OPPOSITE FOR HIGH OUTPUT\n",
        "a=7\n",
        "b=5\n",
        "print(a|b)\n",
        "print(a&b)\n",
        "print(a^b)\n",
        "print(not(a))\n",
        "\n",
        "\n"
      ],
      "metadata": {
        "colab": {
          "base_uri": "https://localhost:8080/"
        },
        "id": "xVhuODsO3Jx6",
        "outputId": "7d5a786b-f370-4b33-ffec-69e185bb2ad4"
      },
      "execution_count": 38,
      "outputs": [
        {
          "output_type": "stream",
          "name": "stdout",
          "text": [
            "7\n",
            "5\n",
            "2\n",
            "False\n"
          ]
        }
      ]
    },
    {
      "cell_type": "markdown",
      "source": [
        "**shift opereator**"
      ],
      "metadata": {
        "id": "Cs4T76E57SIO"
      }
    },
    {
      "cell_type": "code",
      "source": [
        "a=10\n",
        "print(a>>1) # bit of a has a right shift of 1\n",
        "print(a>>2) # bit of a has a right shift of 2\n",
        "print(a>>4) # bit of a has a right shift of 4\n",
        "print(a<<2) # bit of a has a left shift of 2\n"
      ],
      "metadata": {
        "colab": {
          "base_uri": "https://localhost:8080/"
        },
        "id": "ZYLmLEfK7aAr",
        "outputId": "e86eec59-3b6e-403b-f0f5-cfa55d30d0ae"
      },
      "execution_count": 49,
      "outputs": [
        {
          "output_type": "stream",
          "name": "stdout",
          "text": [
            "5\n",
            "2\n",
            "0\n",
            "16069380442589902755419620923411626025222029937827928353013760\n"
          ]
        }
      ]
    },
    {
      "cell_type": "markdown",
      "source": [
        "**Logical Operator**"
      ],
      "metadata": {
        "id": "2zTGyTJ4_VW6"
      }
    },
    {
      "cell_type": "code",
      "source": [
        "a=10\n",
        "b=5\n",
        "if((a==b)and(a>b)):\n",
        "  print(\"success\")\n",
        "else:\n",
        "  print(\"failure\")\n"
      ],
      "metadata": {
        "colab": {
          "base_uri": "https://localhost:8080/"
        },
        "id": "QVTAlw8E_cbU",
        "outputId": "6f99c447-0319-4bfb-b1cf-5d175089c4da"
      },
      "execution_count": 54,
      "outputs": [
        {
          "output_type": "stream",
          "name": "stdout",
          "text": [
            "failure\n"
          ]
        }
      ]
    }
  ]
}