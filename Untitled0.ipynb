{
  "nbformat": 4,
  "nbformat_minor": 0,
  "metadata": {
    "colab": {
      "provenance": [],
      "authorship_tag": "ABX9TyPGT3mdPue2M8YgWNNeAIX/",
      "include_colab_link": true
    },
    "kernelspec": {
      "name": "python3",
      "display_name": "Python 3"
    },
    "language_info": {
      "name": "python"
    }
  },
  "cells": [
    {
      "cell_type": "markdown",
      "metadata": {
        "id": "view-in-github",
        "colab_type": "text"
      },
      "source": [
        "<a href=\"https://colab.research.google.com/github/AbhishekAgrawal71/python_program/blob/main/Untitled0.ipynb\" target=\"_parent\"><img src=\"https://colab.research.google.com/assets/colab-badge.svg\" alt=\"Open In Colab\"/></a>"
      ]
    },
    {
      "cell_type": "code",
      "execution_count": null,
      "metadata": {
        "colab": {
          "base_uri": "https://localhost:8080/"
        },
        "id": "o_mGKmfrwhpm",
        "outputId": "765a0b65-1d63-4053-af4c-ab7e95768de2"
      },
      "outputs": [
        {
          "output_type": "stream",
          "name": "stdout",
          "text": [
            "Hello World\n"
          ]
        }
      ],
      "source": [
        "print(\"Hello World\")# this is our first python program"
      ]
    },
    {
      "cell_type": "code",
      "source": [
        "print(12346)"
      ],
      "metadata": {
        "id": "PmiY4T3S0ZR7",
        "outputId": "6d4346a7-4584-4f33-ef72-e3ebf7ae80b3",
        "colab": {
          "base_uri": "https://localhost:8080/"
        }
      },
      "execution_count": null,
      "outputs": [
        {
          "output_type": "stream",
          "name": "stdout",
          "text": [
            "12346\n"
          ]
        }
      ]
    },
    {
      "cell_type": "code",
      "source": [
        "import sys\n",
        "x=40\n",
        "y='Abhshek Agrawal'\n",
        "print(x)\n",
        "print(type(x)) #print the Data type of x\n",
        "print(id(x))   #print the address of x\n",
        "print(y)\n",
        "print(type(y)) #print the Data type of x\n",
        "print(id(y))   #print the address of y\n",
        "x=x+1\n",
        "y=y+' I am a 1st year student '\n",
        "print(id(x)) # here the address of x is changed\n",
        "print(id(y)) # here the address of y is changed\n",
        "size_of_x=sys.getsizeof(x)\n",
        "size_of_y=sys.getsizeof(y)\n",
        "print(\"size of x is \",size_of_x)\n",
        "print(\"size of y is \",size_of_y)\n",
        "z=[1,2,3,4,5,6] # Here we have initialized a list.\n",
        "print(\"The list is : \",z)\n",
        "z.append(\"hello\") # Here we are updating a list.\n",
        "print(\"The updated list is : \")\n",
        "print(z)\n",
        "\n",
        "\n"
      ],
      "metadata": {
        "colab": {
          "base_uri": "https://localhost:8080/"
        },
        "id": "nYbROdzQntj5",
        "outputId": "2280a5d9-1c7e-472c-bd4b-35fba16720c0"
      },
      "execution_count": 2,
      "outputs": [
        {
          "output_type": "stream",
          "name": "stdout",
          "text": [
            "40\n",
            "<class 'int'>\n",
            "138370524759504\n",
            "Abhshek Agrawal\n",
            "<class 'str'>\n",
            "138370228974704\n",
            "138370524759536\n",
            "138370238933840\n",
            "size of x is  28\n",
            "size of y is  89\n",
            "The list is :  [1, 2, 3, 4, 5, 6]\n",
            "The updated list is : \n",
            "[1, 2, 3, 4, 5, 6, 'hello']\n"
          ]
        }
      ]
    }
  ]
}